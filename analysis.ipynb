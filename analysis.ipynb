{
 "cells": [
  {
   "cell_type": "markdown",
   "metadata": {},
   "source": [
    "Import des fichiers de datas"
   ]
  },
  {
   "cell_type": "code",
   "execution_count": 3,
   "metadata": {},
   "outputs": [],
   "source": [
    "import pandas as pd\n",
    "\n",
    "# Riders stat\n",
    "df_men = pd.read_csv(\"https://raw.githubusercontent.com/camminady/LeTourDataSet/master/data/TDF_Riders_History.csv\")\n",
    "df_women = pd.read_csv(\"https://raw.githubusercontent.com/camminady/LeTourDataSet/master/data/TDFF_Riders_History.csv\")\n",
    "\n",
    "# Stage stat\n",
    "df_stage_men = pd.read_csv(\"https://raw.githubusercontent.com/camminady/LeTourDataSet/master/data/TDF_Stages_History.csv\")\n",
    "df_stage_women = pd.read_csv(\"https://raw.githubusercontent.com/camminady/LeTourDataSet/master/data/TDFF_Stages_History.csv\")"
   ]
  },
  {
   "cell_type": "markdown",
   "metadata": {},
   "source": [
    "Display data"
   ]
  },
  {
   "cell_type": "code",
   "execution_count": 7,
   "metadata": {},
   "outputs": [
    {
     "name": "stdout",
     "output_type": "stream",
     "text": [
      "<bound method NDFrame.head of      Unnamed: 0  Rank                    Rider  Rider No.  \\\n",
      "0             0     1     ANNEMIEK VAN VLEUTEN         11   \n",
      "1             1     2           DEMI VOLLERING         21   \n",
      "2             2     3     KATARZYNA NIEWIADOMA         61   \n",
      "3             3     4          JULIETTE LABOUS         51   \n",
      "4             4     5           SILVIA PERSICO        104   \n",
      "..          ...   ...                      ...        ...   \n",
      "227         227   119       ANTRI CHRISTOFOROU        154   \n",
      "228         228   120        TYPHAINE LAURANCE        183   \n",
      "229         229   121             JOSIE NELSON        217   \n",
      "230         230   122             JOSIE TALBOT        167   \n",
      "231         231   123  MARJOLEIN VAN 'T GELOOF        156   \n",
      "\n",
      "                          Team         Times             Gap    B    P  Year  \\\n",
      "0          MOVISTAR TEAM WOMEN  26h 55' 44''               -  23'  NaN  2022   \n",
      "1                 TEAM SD WORX  26h 59' 32''  + 00h 03' 48''  14'  NaN  2022   \n",
      "2        CANYON // SRAM RACING  27h 02' 19''  + 00h 06' 35''  06'  NaN  2022   \n",
      "3                     TEAM DSM  27h 03' 12''  + 00h 07' 28''  NaN  NaN  2022   \n",
      "4    VALCAR - TRAVEL & SERVICE  27h 03' 44''  + 00h 08' 00''  10'  NaN  2022   \n",
      "..                         ...           ...             ...  ...  ...   ...   \n",
      "227       HUMAN POWERED HEALTH  27h 09' 01''  + 01h 51' 26''  NaN  NaN  2023   \n",
      "228             LIFEPLUS WAHOO  27h 09' 24''  + 01h 51' 49''  NaN  NaN  2023   \n",
      "229   TEAM COOP-HITEC PRODUCTS  27h 10' 14''  + 01h 52' 39''  NaN  NaN  2023   \n",
      "230         COFIDIS WOMEN TEAM  27h 13' 36''  + 01h 56' 01''  NaN  NaN  2023   \n",
      "231       HUMAN POWERED HEALTH  27h 27' 55''  + 02h 10' 20''  NaN  NaN  2023   \n",
      "\n",
      "     Distance (km)  Number of stages  TotalSeconds  GapSeconds ResultType  \n",
      "0             1029                 8         96944           0       time  \n",
      "1             1029                 8         97172         228       time  \n",
      "2             1029                 8         97339         395       time  \n",
      "3             1029                 8         97392         448       time  \n",
      "4             1029                 8         97424         480       time  \n",
      "..             ...               ...           ...         ...        ...  \n",
      "227            956                 8         97741        6686       time  \n",
      "228            956                 8         97764        6709       time  \n",
      "229            956                 8         97814        6759       time  \n",
      "230            956                 8         98016        6961       time  \n",
      "231            956                 8         98875        7820       time  \n",
      "\n",
      "[232 rows x 15 columns]>\n",
      "*****\n",
      "<bound method NDFrame.head of       Unnamed: 0  Rank                  Rider  Rider No.  \\\n",
      "0              0     1          MAURICE GARIN          1   \n",
      "1              1     2         LUCIEN POTHIER         37   \n",
      "2              2     3       FERNAND AUGEREAU         39   \n",
      "3              3     4        RODOLPHE MULLER         33   \n",
      "4              4     5  JEAN-BAPTISTE FISCHER         12   \n",
      "...          ...   ...                    ...        ...   \n",
      "9873        9873   146    ALEXANDER EDMONDSON        144   \n",
      "9874        9874   147        FREDERIK FRISON        185   \n",
      "9875        9875   148       YEVGENIY FEDOROV        194   \n",
      "9876        9876   149               CEES BOL        192   \n",
      "9877        9877   150         MICHAEL MØRKØV         58   \n",
      "\n",
      "                       Team         Times             Gap    B    P  Year  \\\n",
      "0              TDF 1903 ***  94h 33' 14''               -  NaN  NaN  1903   \n",
      "1              TDF 1903 ***  97h 32' 35''  + 02h 59' 21''  NaN  NaN  1903   \n",
      "2              TDF 1903 ***  99h 02' 38''  + 04h 29' 24''  NaN  NaN  1903   \n",
      "3              TDF 1903 ***  99h 12' 44''  + 04h 39' 30''  NaN  NaN  1903   \n",
      "4              TDF 1903 ***  99h 41' 58''  + 05h 08' 44''  NaN  NaN  1903   \n",
      "...                     ...           ...             ...  ...  ...   ...   \n",
      "9873   TEAM DSM - FIRMENICH  87h 50' 21''  + 05h 44' 39''  NaN  NaN  2023   \n",
      "9874            LOTTO DSTNY  88h 01' 02''  + 05h 55' 20''  NaN  NaN  2023   \n",
      "9875  ASTANA QAZAQSTAN TEAM  88h 02' 19''  + 05h 56' 37''  NaN  NaN  2023   \n",
      "9876  ASTANA QAZAQSTAN TEAM  88h 03' 26''  + 05h 57' 44''  NaN  NaN  2023   \n",
      "9877      SOUDAL QUICK-STEP  88h 12' 53''  + 06h 07' 11''  NaN  NaN  2023   \n",
      "\n",
      "      Distance (km)  Number of stages  TotalSeconds  GapSeconds ResultType  \n",
      "0              2428                 6        340394           0       time  \n",
      "1              2428                 6        351155       10761       time  \n",
      "2              2428                 6        356558       16164       time  \n",
      "3              2428                 6        357164       16770       time  \n",
      "4              2428                 6        358918       18524       time  \n",
      "...             ...               ...           ...         ...        ...  \n",
      "9873           3404                21        316221       20679       time  \n",
      "9874           3404                21        316862       21320       time  \n",
      "9875           3404                21        316939       21397       time  \n",
      "9876           3404                21        317006       21464       time  \n",
      "9877           3404                21        317573       22031       time  \n",
      "\n",
      "[9878 rows x 15 columns]>\n"
     ]
    }
   ],
   "source": []
  }
 ],
 "metadata": {
  "kernelspec": {
   "display_name": "Python 3",
   "language": "python",
   "name": "python3"
  },
  "language_info": {
   "codemirror_mode": {
    "name": "ipython",
    "version": 3
   },
   "file_extension": ".py",
   "mimetype": "text/x-python",
   "name": "python",
   "nbconvert_exporter": "python",
   "pygments_lexer": "ipython3",
   "version": "3.10.8"
  },
  "orig_nbformat": 4
 },
 "nbformat": 4,
 "nbformat_minor": 2
}
